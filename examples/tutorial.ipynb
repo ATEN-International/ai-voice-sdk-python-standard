{
 "cells": [
  {
   "cell_type": "markdown",
   "metadata": {},
   "source": [
    "# 簡介\n",
    "AI Voice是宏正自動科技的語音合成服務優聲學，使用本SDK是必須租用優聲學服務。租用服務請至`https://www.aivoice.com.tw/business/enterprise`上留下聯絡資料。<br>\n",
    "宏正優聲學，推出限量企業標準版之語音合成服務，提供六個優質美聲，大量語音合成，歡迎企業用戶填寫表格連繫, 了解更多企業標準版方案細節!\n",
    "****"
   ]
  },
  {
   "cell_type": "markdown",
   "metadata": {},
   "source": [
    "## 事前準備\n",
    "1. 至語音合成網頁\"複製\" `API_ACCESS_TOKEN`"
   ]
  },
  {
   "cell_type": "markdown",
   "metadata": {},
   "source": [
    "****\n",
    "## AI Vioce SDK 範例"
   ]
  },
  {
   "cell_type": "markdown",
   "metadata": {},
   "source": [
    "### 目前提供多位聲優：\n",
    "\n",
    "| 語音 | 聲優 | SDK 參數 | SSML Voice Name |\n",
    "| :---: | :---: | :---: | :---: |\n",
    "| 知性女聲 | 思涵 | `AURORA_HANNAH` | Hannah_news |\n",
    "| 沉穩男聲 | 裕祥 | `STEADY_AARON` | Aaron |\n",
    "| 動人女聲 | 貝拉 | `CHARMING_MERCURY_SOFT_BELLA` | Bella_host |\n",
    "| 開朗女聲 | 貝拉 | `CHEERFUL_MERCURY_HAPPY_BELLA` | Bella_vivid |\n",
    "| 活力男聲 | 力晨 | `VIBRANT_BILL` | Bill_cheerful |\n",
    "| 斯文男聲 | 俊昇 | `GRACEFUL_SHAWN` | Shawn |\n",
    "| 自在男聲 | 展河 | `AT_EASE_JASON` | Jason |\n",
    "| 自在女聲 | 思涵 | `AT_EASE_HANNAH` | Hannah_colloquial |\n",
    "| 穩重女聲 | 嘉妮 | `STEADFAST_AURORA` | Aurora |\n",
    "| 客服女聲 | 思琪 | `CUSTOMER_SERVICE_CELIA` | Celia_call_center |"
   ]
  },
  {
   "attachments": {},
   "cell_type": "markdown",
   "metadata": {},
   "source": [
    "### 建立轉換器\n",
    "- 以下為建立轉換器的流程：\n",
    "    1. 代入token與伺服器位置，並建立轉換器設定檔\n",
    "    2. 修改設定檔內選用的語音(預設參數為`None`，未設定語音參數將不會進行轉換)\n",
    "    3. 代入設定檔並建立轉換器"
   ]
  },
  {
   "cell_type": "code",
   "execution_count": 1,
   "metadata": {},
   "outputs": [],
   "source": [
    "import ai_voice_sdk as aivoice\n",
    "\n",
    "tokens = ['API_ACCESS_TOKEN'] # 改為語音網頁上的 API_ACCESS_TOKEN\n",
    "server = 'https://www.aivoice.com.tw/business/enterprise' # Aten Ai Voice API URL\n",
    "\n",
    "# 1.建立轉換器設定檔\n",
    "config = aivoice.ConverterConfig(tokens=tokens, server_url=server)\n",
    "\n",
    "# 2.選擇設定檔內選用的語音\n",
    "config.set_voice(aivoice.Voice.CALM_HANNAH)\n",
    "\n",
    "# 3.建立轉換器\n",
    "converter = aivoice.VoiceConverter(config=config)"
   ]
  },
  {
   "attachments": {},
   "cell_type": "markdown",
   "metadata": {},
   "source": [
    "<br>\n",
    "\n",
    "### 更新轉換器 (Optional)\n",
    "- 修改轉換器設定有2種方式\n",
    "    1. 修改`VoiceConverter.config`設定\n",
    "    2. 建立新設定檔，並更新至`VoiceConverter`"
   ]
  },
  {
   "cell_type": "code",
   "execution_count": 2,
   "metadata": {},
   "outputs": [],
   "source": [
    "new_tokens = ['API_ACCESS_TOKEN'] # 改為語音網頁上的 API_ACCESS_TOKEN\n",
    "new_server = 'https://www.aivoice.com.tw/business/enterprise' # Aten Ai Voice API URL\n",
    "\n",
    "# 1. 修改`VoiceConverter.config`設定\n",
    "# 1.1 修改config tokens設定\n",
    "converter.config.set_tokens(new_tokens)\n",
    "\n",
    "# 1.2 修改config server url設定\n",
    "converter.config.set_server(new_server)\n",
    "\n",
    "# 1.3\n",
    "converter.config.set_voice(aivoice.Voice.CALM_HANNAH)\n",
    "\n",
    "# 2. 建立新設定檔，並更新至`VoiceConverter`\n",
    "# 2.1 建立新設定檔\n",
    "new_config = aivoice.ConverterConfig(tokens=new_tokens, server_url=new_server)\n",
    "new_config.set_voice(aivoice.Voice.AT_EASE_HANNAH)\n",
    "\n",
    "# 2.2 更新至`VoiceConverter`\n",
    "converter.update_config(new_config)\n"
   ]
  },
  {
   "cell_type": "code",
   "execution_count": 3,
   "metadata": {},
   "outputs": [],
   "source": [
    "import ai_voice_sdk as aivoice\n",
    "\n",
    "tokens = ['API_ACCESS_TOKEN'] # 改為語音網頁上的 API_ACCESS_TOKEN\n",
    "server = 'https://www.aivoice.com.tw/business/enterprise' # Aten Ai Voice API URL\n",
    "\n",
    "# 1.建立轉換器設定檔\n",
    "config = aivoice.ConverterConfig(tokens=tokens, server_url=server)\n",
    "\n",
    "# 2.選擇設定檔內選用的語音\n",
    "config.set_voice(aivoice.Voice.AT_EASE_HANNAH)\n",
    "\n",
    "# 3.建立轉換器\n",
    "converter = aivoice.VoiceConverter(config=config)"
   ]
  },
  {
   "cell_type": "markdown",
   "metadata": {},
   "source": [
    "### 查看可用的聲優"
   ]
  },
  {
   "cell_type": "code",
   "execution_count": 4,
   "metadata": {},
   "outputs": [
    {
     "name": "stdout",
     "output_type": "stream",
     "text": [
      "1 model id:Aurora, model name:穩重女聲-嘉妮\n",
      "2 model id:Aaron, model name:沉穩男聲-裕祥\n",
      "3 model id:Bella_vivid, model name:開朗女聲-貝拉\n",
      "4 model id:Bella_host, model name:動人女聲-貝拉\n",
      "5 model id:Bill_cheerful, model name:活力男聲-力晨\n",
      "6 model id:Celia_call_center, model name:客服女聲-思琪\n",
      "7 model id:Hannah_colloquial, model name:自在女聲-思涵\n",
      "8 model id:Hannah_news, model name:知性女聲-思涵\n",
      "9 model id:Jason, model name:自在男聲-展河\n",
      "10 model id:Shawn, model name:斯文男聲-俊昇\n",
      "\n"
     ]
    }
   ],
   "source": [
    "users = converter.get_models(tokens)\n",
    "for index, user in enumerate(users):\n",
    "    token = user['token']\n",
    "    for index, model in enumerate(user['models']):\n",
    "        model_id = model['model_id']\n",
    "        model_name = model['name']\n",
    "        print(f\"{index+1} model id:{model_id}, model name:{model_name}\")\n",
    "        # 以下可查看各個user可用的聲優\n",
    "        # print(f\"{index+1} token:{token} model id:{model_id}, model name:{model_name}\")\n",
    "    print()"
   ]
  },
  {
   "cell_type": "markdown",
   "metadata": {},
   "source": [
    "<br>\n",
    "\n",
    "### 加入文章\n",
    "1. 轉換器的文字以段落清單的形式儲存\n",
    "2. 以下有兩種方式加入文章"
   ]
  },
  {
   "attachments": {},
   "cell_type": "markdown",
   "metadata": {},
   "source": [
    "方法1: 透過程式碼加入\n",
    "- 支援文字格式：`純文字`、`SSML`、`宏正優聲學RTF`\n",
    "- 注：若轉換器的`語音參數`為`None`，加入SSML格式的文字內容時，會將`語音參數`設為SSML格式中語音標籤的參數，詳見[語音參數自動設定](#語音參數自動設定)"
   ]
  },
  {
   "cell_type": "code",
   "execution_count": 5,
   "metadata": {},
   "outputs": [
    {
     "name": "stdout",
     "output_type": "stream",
     "text": [
      " 0 : <voice name='Hannah_colloquial'>歡迎體驗宏正優聲學，讓好聲音為您的應用提供加值服務。</voice>\n",
      " 1 : <voice name=\"Jason\">宏正自動科技的人工智慧語音合成技術，帶來超逼真<phoneme alphabet=\"bopomo\" lang=\"TW\" ph=\"ㄉㄜ˙\">的</phoneme>合成語音<break time=\"300ms\"/>：自然、真實，讓您拉近與客戶的距離，提高滿意度，帶來轉換率。</voice>\n",
      " 2 : <voice name='Hannah_colloquial'><prosody rate=\"1.01\" volume=\"+2.45dB\">按下合成鍵之前，我<phoneme alphabet=\"bopomo\" lang=\"TW\" ph=\"ㄇㄣˊ\">們</phoneme>建議您先確認2<phoneme alphabet=\"bopomo\" lang=\"TW\" ph=\"ㄍㄜ˙\">個</phoneme>問題：\n",
      "    您的文章轉成語音之後，是好聽流暢的嗎？<break time=\"1200ms\"/>\n",
      "    您<phoneme alphabet=\"bopomo\" lang=\"TW\" ph=\"ㄧㄡˇ\">有</phoneme>將閱讀文，轉為聆聽文嗎？\n",
      "    </prosody></voice>\n"
     ]
    }
   ],
   "source": [
    "# 方法1: 透過程式碼加入\n",
    "\n",
    "# 設定執行模式\n",
    "converter.config.set_run_mode(aivoice.RunMode.NORMAL)\n",
    "\n",
    "# 1.1 加入純文字\n",
    "# 參數 (str)     text，要加入的文字內容\n",
    "# 參數 (int) position，要加入的段落，預設(position = -1)為加入清單最後\n",
    "converter.text.add_text(text = \"歡迎體驗宏正優聲學，讓好聲音為您的應用提供加值服務。\", position = -1)\n",
    "\n",
    "# 1.2 加入SSML格式\n",
    "# 參數 (str)     text，要加入的文字內容\n",
    "# 參數 (int) position，要加入的段落，預設(position = -1)為加入清單最後\n",
    "converter.text.add_ssml_text(\n",
    "    text = \"\"\"<speak xmlns=\"http://www.w3.org/2001/10/synthesis\" version=\"1.2\" xml:lang=\"zh-TW\">\n",
    "    <voice name=\"Jason\">宏正自動科技的人工智慧語音合成技術，帶來超逼真\n",
    "    <phoneme alphabet=\"bopomo\" lang=\"TW\" ph=\"ㄉㄜ˙\">的</phoneme>\n",
    "    合成語音\n",
    "    <break time=\"300ms\"/>\n",
    "    ：自然、真實，讓您拉近與客戶的距離，提高滿意度，帶來轉換率。\n",
    "    </voice></speak>\"\"\",\n",
    "    position = -1\n",
    ")\n",
    "\n",
    "# 1.3 加入宏正優聲學RTF格式\n",
    "# 參數 (str)     text，要加入的文字內容\n",
    "# 參數 (float)   rate，調整語速 (0.8 ~ 1.2)\n",
    "# 參數 (int)    pitch，調整音調 (-2 ~ 2)\n",
    "# 參數 (float) volume，調整音量 (-6.0 ~ 6.0)\n",
    "# 參數 (int) position，要加入的段落，預設(position = -1)為加入清單最後\n",
    "converter.text.add_webpage_text(\n",
    "    text = \"\"\"按下合成鍵之前，我們[:ㄇㄣˊ]建議您先確認2個[:ㄍㄜ˙]問題：\n",
    "    您的文章轉成語音之後，是好聽流暢的嗎？[:1.2秒]\n",
    "    您有[:ㄧㄡˇ]將閱讀文，轉為聆聽文嗎？\n",
    "    \"\"\",\n",
    "    rate = 1.01, pitch = 0, volume = 2.45, position = -1\n",
    ")\n",
    "\n",
    "# 印出文章\n",
    "converter.text.show()\n",
    "# 清除文章所有內容\n",
    "converter.text.clear()"
   ]
  },
  {
   "attachments": {},
   "cell_type": "markdown",
   "metadata": {},
   "source": [
    "方法2: 讀取檔案檔加入\n",
    "- 支援格式：`純文字檔(.txt)`、`SSML格式的檔案(.ssml/.xml)`\n",
    "- 注：若轉換器的`語音參數`為`None`，加入SSML格式的文字內容時，會將`語音參數`設為SSML格式中語音標籤的參數，詳見[語音參數自動設定](#語音參數自動設定)"
   ]
  },
  {
   "cell_type": "code",
   "execution_count": 6,
   "metadata": {},
   "outputs": [
    {
     "name": "stdout",
     "output_type": "stream",
     "text": [
      " 0 : <voice name='Hannah_colloquial'>歡迎體驗宏正優聲學，讓好聲音為您的應用提供加值服務。\n",
      "宏正自動科技的人工智慧語音合成技術，帶來超逼真的合成語音：自然、真實，讓您拉近與客戶的距離，提高滿意度，帶來轉換率。\n",
      "按下合成鍵之前，我們建議您先確認2個問題：\n",
      "您的文章轉成語音之後，是好聽流暢的嗎？\n",
      "您有將閱讀文，轉為聆聽文嗎？\n",
      "微調一下文章結構，參考合成使用說明，讓文章看起來像閱讀文，也適合您的聆聽者。\n",
      "有任何對我們的合成服務的建議，也請您不吝指教！\n",
      "ATEN 專注開發智慧製造及物聯網解決方案，堅持客戶優先的理念，也將持續實現承諾，提供客戶最佳的服務。\n",
      "</voice>\n",
      " 1 : <voice name=\"Aaron\"><prosody rate=\"1.0\">歡迎體驗宏正優聲學，讓好聲音為您的應用提供加值服務。宏正自動科技的人工智慧語音合成技術，帶來超逼真<phoneme alphabet=\"bopomo\" lang=\"TW\" ph=\"ㄉㄜ˙\">的</phoneme>合成語音：自然、真實，讓您拉近與客戶的距離，提高滿意度，帶來轉換率。<break time=\"500ms\"/>按下合成鍵之前，我們建議您先確認2個問題：您的文章轉成語音之後，是好聽流暢的嗎？您有將閱讀文，<phoneme alphabet=\"bopomo\" lang=\"TW\" ph=\"ㄓㄨㄢˇ\">轉</phoneme>為聆聽文嗎？微調一下文章結構，參考合成使用說明，讓文章看起來像閱讀文，也適合您的聆聽者。有任何對我們的合成服務的建議，也請您不吝指教！ATEN 專注開發智慧製造及物聯網<phoneme alphabet=\"bopomo\" lang=\"TW\" ph=\"ㄐㄧㄝˇ\">解</phoneme>決方案，堅持客戶優先的理念，也將持續實現承諾，提供客戶最佳的服務。</prosody></voice>\n"
     ]
    }
   ],
   "source": [
    "# 方法2: 讀取檔案檔加入\n",
    "# 參數 (str) file_path，檔案路徑\n",
    "# 參數 (str)    encode，編碼格式，預設為\"utf-8\"\n",
    "# 參數 (int)  position，要加入的段落，預設(position = -1)為加入清單最後\n",
    "converter.text.clear()\n",
    "\n",
    "# 設定執行模式\n",
    "converter.config.set_run_mode(aivoice.RunMode.NORMAL)\n",
    "\n",
    "# 2.1 讀取純文字檔加入\n",
    "converter.text.open_text_file(file_path=\"./textfile.txt\", encode=\"utf-8\", position=-1)\n",
    "\n",
    "# 2.2 讀取SSML格式的檔案\n",
    "converter.text.open_text_file(file_path=\"./ssmlfile.ssml\", encode=\"utf-8\", position=-1)\n",
    "\n",
    "# 印出文章\n",
    "converter.text.show()"
   ]
  },
  {
   "cell_type": "markdown",
   "metadata": {},
   "source": [
    "<br>\n",
    "\n",
    "### 獲得/顯示文章\n",
    "- 文章以清單的形式儲存"
   ]
  },
  {
   "cell_type": "code",
   "execution_count": 7,
   "metadata": {},
   "outputs": [
    {
     "name": "stdout",
     "output_type": "stream",
     "text": [
      "[\"<voice name='Hannah_colloquial'>歡迎體驗宏正優聲學，讓好聲音為您的應用提供加值服務。\\n宏正自動科技的人工智慧語音合成技術，帶來超逼真的合成語音：自然、真實，讓您拉近與客戶的距離，提高滿意度，帶來轉換率。\\n按下合成鍵之前，我們建議您先確認2個問題：\\n您的文章轉成語音之後，是好聽流暢的嗎？\\n您有將閱讀文，轉為聆聽文嗎？\\n微調一下文章結構，參考合成使用說明，讓文章看起來像閱讀文，也適合您的聆聽者。\\n有任何對我們的合成服務的建議，也請您不吝指教！\\nATEN 專注開發智慧製造及物聯網解決方案，堅持客戶優先的理念，也將持續實現承諾，提供客戶最佳的服務。\\n</voice>\", '<voice name=\"Aaron\"><prosody rate=\"1.0\">歡迎體驗宏正優聲學，讓好聲音為您的應用提供加值服務。宏正自動科技的人工智慧語音合成技術，帶來超逼真<phoneme alphabet=\"bopomo\" lang=\"TW\" ph=\"ㄉㄜ˙\">的</phoneme>合成語音：自然、真實，讓您拉近與客戶的距離，提高滿意度，帶來轉換率。<break time=\"500ms\"/>按下合成鍵之前，我們建議您先確認2個問題：您的文章轉成語音之後，是好聽流暢的嗎？您有將閱讀文，<phoneme alphabet=\"bopomo\" lang=\"TW\" ph=\"ㄓㄨㄢˇ\">轉</phoneme>為聆聽文嗎？微調一下文章結構，參考合成使用說明，讓文章看起來像閱讀文，也適合您的聆聽者。有任何對我們的合成服務的建議，也請您不吝指教！ATEN 專注開發智慧製造及物聯網<phoneme alphabet=\"bopomo\" lang=\"TW\" ph=\"ㄐㄧㄝˇ\">解</phoneme>決方案，堅持客戶優先的理念，也將持續實現承諾，提供客戶最佳的服務。</prosody></voice>']\n",
      "\n",
      " 0 : <voice name='Hannah_colloquial'>歡迎體驗宏正優聲學，讓好聲音為您的應用提供加值服務。\n",
      "宏正自動科技的人工智慧語音合成技術，帶來超逼真的合成語音：自然、真實，讓您拉近與客戶的距離，提高滿意度，帶來轉換率。\n",
      "按下合成鍵之前，我們建議您先確認2個問題：\n",
      "您的文章轉成語音之後，是好聽流暢的嗎？\n",
      "您有將閱讀文，轉為聆聽文嗎？\n",
      "微調一下文章結構，參考合成使用說明，讓文章看起來像閱讀文，也適合您的聆聽者。\n",
      "有任何對我們的合成服務的建議，也請您不吝指教！\n",
      "ATEN 專注開發智慧製造及物聯網解決方案，堅持客戶優先的理念，也將持續實現承諾，提供客戶最佳的服務。\n",
      "</voice>\n",
      " 1 : <voice name=\"Aaron\"><prosody rate=\"1.0\">歡迎體驗宏正優聲學，讓好聲音為您的應用提供加值服務。宏正自動科技的人工智慧語音合成技術，帶來超逼真<phoneme alphabet=\"bopomo\" lang=\"TW\" ph=\"ㄉㄜ˙\">的</phoneme>合成語音：自然、真實，讓您拉近與客戶的距離，提高滿意度，帶來轉換率。<break time=\"500ms\"/>按下合成鍵之前，我們建議您先確認2個問題：您的文章轉成語音之後，是好聽流暢的嗎？您有將閱讀文，<phoneme alphabet=\"bopomo\" lang=\"TW\" ph=\"ㄓㄨㄢˇ\">轉</phoneme>為聆聽文嗎？微調一下文章結構，參考合成使用說明，讓文章看起來像閱讀文，也適合您的聆聽者。有任何對我們的合成服務的建議，也請您不吝指教！ATEN 專注開發智慧製造及物聯網<phoneme alphabet=\"bopomo\" lang=\"TW\" ph=\"ㄐㄧㄝˇ\">解</phoneme>決方案，堅持客戶優先的理念，也將持續實現承諾，提供客戶最佳的服務。</prosody></voice>\n"
     ]
    }
   ],
   "source": [
    "# 印出文章清單\n",
    "print(f\"{converter.text.get_text()}\\n\")\n",
    "\n",
    "# 印出文章\n",
    "converter.text.show()"
   ]
  },
  {
   "cell_type": "markdown",
   "metadata": {},
   "source": [
    "<br>\n",
    "\n",
    "### 刪除文章內容\n",
    "- 刪除文章內容有以下兩種方法\n",
    "\n",
    "方法1: 刪除文章段落"
   ]
  },
  {
   "cell_type": "code",
   "execution_count": 8,
   "metadata": {},
   "outputs": [
    {
     "name": "stdout",
     "output_type": "stream",
     "text": [
      " 0 : <voice name=\"Aaron\"><prosody rate=\"1.0\">歡迎體驗宏正優聲學，讓好聲音為您的應用提供加值服務。宏正自動科技的人工智慧語音合成技術，帶來超逼真<phoneme alphabet=\"bopomo\" lang=\"TW\" ph=\"ㄉㄜ˙\">的</phoneme>合成語音：自然、真實，讓您拉近與客戶的距離，提高滿意度，帶來轉換率。<break time=\"500ms\"/>按下合成鍵之前，我們建議您先確認2個問題：您的文章轉成語音之後，是好聽流暢的嗎？您有將閱讀文，<phoneme alphabet=\"bopomo\" lang=\"TW\" ph=\"ㄓㄨㄢˇ\">轉</phoneme>為聆聽文嗎？微調一下文章結構，參考合成使用說明，讓文章看起來像閱讀文，也適合您的聆聽者。有任何對我們的合成服務的建議，也請您不吝指教！ATEN 專注開發智慧製造及物聯網<phoneme alphabet=\"bopomo\" lang=\"TW\" ph=\"ㄐㄧㄝˇ\">解</phoneme>決方案，堅持客戶優先的理念，也將持續實現承諾，提供客戶最佳的服務。</prosody></voice>\n"
     ]
    }
   ],
   "source": [
    "# 參數 (int) position，要刪除的段落\n",
    "converter.text.delete_paragraph(position=0)\n",
    "# 印出文章\n",
    "converter.text.show()"
   ]
  },
  {
   "cell_type": "markdown",
   "metadata": {},
   "source": [
    "方法2: 清空文章"
   ]
  },
  {
   "cell_type": "code",
   "execution_count": 9,
   "metadata": {},
   "outputs": [
    {
     "name": "stdout",
     "output_type": "stream",
     "text": [
      "Text is empty.\n"
     ]
    }
   ],
   "source": [
    "# 清除文章所有內容\n",
    "converter.text.clear()\n",
    "# 印出文章\n",
    "converter.text.show()"
   ]
  },
  {
   "attachments": {},
   "cell_type": "markdown",
   "metadata": {},
   "source": [
    "<br>\n",
    "\n",
    "### 合成語音\n",
    "- 合成語音有兩種使用方法：\n",
    "    - 注：合成語音後不會將既有的文章刪除"
   ]
  },
  {
   "cell_type": "markdown",
   "metadata": {},
   "source": [
    "方法1: 執行後不等待語音合成"
   ]
  },
  {
   "cell_type": "code",
   "execution_count": 10,
   "metadata": {},
   "outputs": [],
   "source": [
    "# 方法1：執行後不等待語音合成\n",
    "\n",
    "# 讀取SSML格式的檔案\n",
    "converter.text.open_text_file(file_path=\"./ssmlfile.ssml\", encode=\"utf-8\", position=-1)\n",
    "\n",
    "# 參數 (int) interval_time，伺服器忙碌時，重試合成任務間隔時間，最小值=0 (不重試), 最大值=10\n",
    "# 參數 (bool) is_wait_speech，是否等待語音合成完成，如果為True，執行後會等待語音合成結束，其Result與get_speech(func)相同\n",
    "result = converter.run(interval_time=0, is_wait_speech=False)\n"
   ]
  },
  {
   "cell_type": "code",
   "execution_count": 11,
   "metadata": {},
   "outputs": [
    {
     "name": "stdout",
     "output_type": "stream",
     "text": [
      "Get speech data success.\n"
     ]
    }
   ],
   "source": [
    "# 取得語音合成資料\n",
    "result = converter.get_speech()\n",
    "\n",
    "if result.status == aivoice.ConverterStatus.GetSpeechSuccess:\n",
    "    print(\"Get speech data success.\")\n",
    "    # 將語音另存為\"aivoice.wav\"，且當語音數量超過一個時，將語音檔合併至同一檔案\n",
    "    result.save(\"aivoice\", is_merge=True)\n",
    "elif result.status == aivoice.ConverterStatus.GetSpeechFail:\n",
    "    print(f\"Error message: {result.error_message}\")"
   ]
  },
  {
   "cell_type": "markdown",
   "metadata": {},
   "source": [
    "方法2: 執行後等待語音合成結束並將資料取回"
   ]
  },
  {
   "cell_type": "code",
   "execution_count": 12,
   "metadata": {},
   "outputs": [
    {
     "name": "stdout",
     "output_type": "stream",
     "text": [
      "Get speech data success.\n"
     ]
    }
   ],
   "source": [
    "# 方法2: 執行後等待語音合成結束並將資料取回\n",
    "\n",
    "# 參數 (int)  interval_time，伺服器忙碌時，重試合成任務間隔時間，最小值=0 (不重試), 最大值=10\n",
    "# 參數 (bool) is_wait_speech，是否等待語音合成完成，如果為True，執行後會等待語音合成結束，Result與get_speech(func)相同\n",
    "result = converter.run(interval_time=0, is_wait_speech=True)\n",
    "\n",
    "if result.status == aivoice.ConverterStatus.GetSpeechSuccess:\n",
    "    print(\"Get speech data success.\")\n",
    "    # 將語音另存為\"aivoice.wav\"，且當語音數量超過一個時，將語音檔各別存為單一檔案\n",
    "    result.save(\"aivoice\", is_merge=False)\n",
    "else:\n",
    "    if result.status == aivoice.ConverterStatus.GetSpeechFail:\n",
    "        print(f\"Error message: {result.error_message}\")\n",
    "    elif result.status == aivoice.ConverterStatus.ConverVoiceFail:\n",
    "        print(f\"Error message: {result.error_message}\")\n",
    "    else:\n",
    "        print(f\"Converter status: {result.status.name}, Detail: {result.detail}\")"
   ]
  },
  {
   "cell_type": "markdown",
   "metadata": {},
   "source": [
    "方法3: 執行後會即時播放聲音後並將資料取回"
   ]
  },
  {
   "cell_type": "code",
   "execution_count": 13,
   "metadata": {},
   "outputs": [
    {
     "name": "stdout",
     "output_type": "stream",
     "text": [
      " 0 : <voice name=\"Aaron\"><prosody rate=\"1.0\">歡迎體驗宏正優聲學，</prosody></voice>\n",
      " 1 : <voice name=\"Aaron\"><prosody rate=\"1.0\">讓好聲音為您的應用提供加值服務。</prosody></voice>\n",
      " 2 : <voice name=\"Aaron\"><prosody rate=\"1.0\">宏正自動科技的人工智慧語音合成技術，</prosody></voice>\n",
      " 3 : <voice name=\"Aaron\"><prosody rate=\"1.0\">帶來超逼真</prosody></voice>\n",
      " 4 : <voice name=\"Aaron\"><prosody rate=\"1.0\"><phoneme alphabet=\"bopomo\" lang=\"TW\" ph=\"ㄉㄜ˙\">的</phoneme>合成語音：自然、真實，</prosody></voice>\n",
      " 5 : <voice name=\"Aaron\"><prosody rate=\"1.0\">讓您拉近與客戶的距離，</prosody></voice>\n",
      " 6 : <voice name=\"Aaron\"><prosody rate=\"1.0\">提高滿意度，帶來轉換率。</prosody></voice>\n",
      " 7 : <voice name=\"Aaron\"><prosody rate=\"1.0\"><break time=\"500ms\"/>按下合成鍵之前，我們建議您先確認2個問題：您的文章轉成語音之後，</prosody></voice>\n",
      " 8 : <voice name=\"Aaron\"><prosody rate=\"1.0\">是好聽流暢的嗎？您有將閱讀文，</prosody></voice>\n",
      " 9 : <voice name=\"Aaron\"><prosody rate=\"1.0\"><phoneme alphabet=\"bopomo\" lang=\"TW\" ph=\"ㄓㄨㄢˇ\">轉</phoneme>為聆聽文嗎？微調一下文章結構，</prosody></voice>\n",
      "10 : <voice name=\"Aaron\"><prosody rate=\"1.0\">參考合成使用說明，讓文章看起來像閱讀文，</prosody></voice>\n",
      "11 : <voice name=\"Aaron\"><prosody rate=\"1.0\">也適合您的聆聽者。有任何對我們的合成服務的建議，</prosody></voice>\n",
      "12 : <voice name=\"Aaron\"><prosody rate=\"1.0\">也請您不吝指教！ATEN 專注開發智慧製造及物聯網</prosody></voice>\n",
      "13 : <voice name=\"Aaron\"><prosody rate=\"1.0\"><phoneme alphabet=\"bopomo\" lang=\"TW\" ph=\"ㄐㄧㄝˇ\">解</phoneme>決方案，堅持客戶優先的理念，</prosody></voice>\n",
      "14 : <voice name=\"Aaron\"><prosody rate=\"1.0\">也將持續實現承諾，提供客戶最佳的服務。</prosody></voice>\n",
      "Get speech data success.\n"
     ]
    }
   ],
   "source": [
    "# 方法3: 執行後會即時播放語音後並將資料取回\n",
    "\n",
    "# 設定即時播放語音\n",
    "converter.config.set_run_mode(aivoice.RunMode.LIVE_PLAY_AUDIO)\n",
    "\n",
    "# 讀取SSML格式的檔案\n",
    "converter.text.open_text_file(file_path=\"./ssmlfile.ssml\", encode=\"utf-8\", position=-1)\n",
    "converter.text.show()\n",
    "\n",
    "# 參數 (int)  interval_time，伺服器忙碌時，重試合成任務間隔時間，最小值=0 (不重試), 最大值=10\n",
    "# 參數 (bool) is_wait_speech，是否等待語音合成完成，如果為True，執行後會等待語音合成結束，Result與get_speech(func)相同\n",
    "result = converter.run(interval_time=0, is_wait_speech=True)\n",
    "\n",
    "if result.status == aivoice.ConverterStatus.GetSpeechSuccess:\n",
    "    print(\"Get speech data success.\")\n",
    "    # 將語音另存為\"aivoice.wav\"，且當語音數量超過一個時，將語音檔各別存為單一檔案\n",
    "    result.save(\"aivoice\", is_merge=True)\n",
    "else:\n",
    "    if result.status == aivoice.ConverterStatus.GetSpeechFail:\n",
    "        print(f\"Error message: {result.error_message}\")\n",
    "    elif result.status == aivoice.ConverterStatus.ConverVoiceFail:\n",
    "        print(f\"Error message: {result.error_message}\")\n",
    "    else:\n",
    "        print(f\"Converter status: {result.status.name}, Detail: {result.detail}\")"
   ]
  },
  {
   "cell_type": "markdown",
   "metadata": {},
   "source": [
    "<br>\n",
    "\n",
    "### 進階應用\n",
    "1. 插入停頓\n",
    "2. 調整語速、音調、以及音量\n",
    "3. 修改發音\n",
    "4. 修改發音並且調整語速、音調、以及音量"
   ]
  },
  {
   "cell_type": "markdown",
   "metadata": {},
   "source": [
    "<br>\n",
    "\n",
    "- 插入停頓"
   ]
  },
  {
   "cell_type": "code",
   "execution_count": 14,
   "metadata": {},
   "outputs": [],
   "source": [
    "# 參數 (int) break_time，插入停頓時間(毫秒)\n",
    "# 參數 (int)   position，要插入停頓的段落，預設(position = -1)為加入清單最後\n",
    "\n",
    "# 在段落最後加入300毫秒的停頓\n",
    "converter.text.insert_break(break_time=300, position=-1)"
   ]
  },
  {
   "cell_type": "markdown",
   "metadata": {},
   "source": [
    "- 調整與速、音調、以及音量"
   ]
  },
  {
   "cell_type": "code",
   "execution_count": 15,
   "metadata": {},
   "outputs": [],
   "source": [
    "# 參數 (str)     text，要調整的文字內容\n",
    "# 參數 (float)   rate，調整語速 (0.8 ~ 1.2)\n",
    "# 參數 (int)    pitch，調整音調 (-2 ~ 2)\n",
    "# 參數 (float) volume，調整音量 (-6.0 ~ 6.0)\n",
    "# 參數 (int) position，要插入的段落，預設(position = -1)為加入清單最後\n",
    "\n",
    "# 在段落最後加入文字，並調整與速、音調、以及音量\n",
    "converter.text.insert_prosody(text=\"歡迎體驗宏正優聲學，讓好聲音為您的應用提供加值服務。\", rate=1.2, pitch=2, volume=-3.3, position=-1)"
   ]
  },
  {
   "cell_type": "markdown",
   "metadata": {},
   "source": [
    "- 修改發音"
   ]
  },
  {
   "cell_type": "code",
   "execution_count": 16,
   "metadata": {},
   "outputs": [],
   "source": [
    "# 參數 (str)     text，要修改發音的文字內容\n",
    "# 參數 (str)       ph，修改後的發音\n",
    "# 參數 (int) position，要插入的段落，預設(position = -1)為加入清單最後\n",
    "\n",
    "# 在段落最後加入文字，並修改文字內容的發音\n",
    "converter.text.insert_phoneme(text=\"大家好\", ph=\"ㄧㄡ ㄕㄥ ㄒㄩㄝˊ\", position=-1)"
   ]
  },
  {
   "cell_type": "markdown",
   "metadata": {},
   "source": [
    "- 修改發音並且調整語速、音調、以及音量"
   ]
  },
  {
   "cell_type": "code",
   "execution_count": 17,
   "metadata": {},
   "outputs": [],
   "source": [
    "# 參數 (str)     text，要修改發音的文字內容\n",
    "# 參數 (str)       ph，修改後的發音\n",
    "# 參數 (float)   rate，調整語速 (0.8 ~ 1.2)\n",
    "# 參數 (int)    pitch，調整音調 (-2 ~ 2)\n",
    "# 參數 (float) volume，調整音量 (-6.0 ~ 6.0)\n",
    "# 參數 (int) position，要插入的段落，預設(position = -1)為加入清單最後\n",
    "\n",
    "# 在段落1，插入修改發音後的文字內容，並且調整與速、音調、以及音量\n",
    "converter.text.insert_prosody_and_phoneme(text=\"優聲學\", ph=\"ㄉㄚˋ ㄐㄧㄚ ㄏㄠˇ\", rate=0.8, pitch=-2, volume=5.5, position=1)"
   ]
  },
  {
   "cell_type": "code",
   "execution_count": 18,
   "metadata": {},
   "outputs": [
    {
     "name": "stdout",
     "output_type": "stream",
     "text": [
      " 0 : <voice name=\"Aaron\"><prosody rate=\"1.0\">歡迎體驗宏正優聲學，</prosody></voice>\n",
      " 1 : <voice name='Hannah_colloquial'><prosody rate=\"0.8\" pitch=\"-2st\" volume=\"+5.5dB\"><phoneme alphabet=\"bopomo\" lang=\"TW\" ph=\"ㄉㄚˋ ㄐㄧㄚ ㄏㄠˇ\">優聲學</phoneme></prosody></voice>\n",
      " 2 : <voice name=\"Aaron\"><prosody rate=\"1.0\">讓好聲音為您的應用提供加值服務。</prosody></voice>\n",
      " 3 : <voice name=\"Aaron\"><prosody rate=\"1.0\">宏正自動科技的人工智慧語音合成技術，</prosody></voice>\n",
      " 4 : <voice name=\"Aaron\"><prosody rate=\"1.0\">帶來超逼真</prosody></voice>\n",
      " 5 : <voice name=\"Aaron\"><prosody rate=\"1.0\"><phoneme alphabet=\"bopomo\" lang=\"TW\" ph=\"ㄉㄜ˙\">的</phoneme>合成語音：自然、真實，</prosody></voice>\n",
      " 6 : <voice name=\"Aaron\"><prosody rate=\"1.0\">讓您拉近與客戶的距離，</prosody></voice>\n",
      " 7 : <voice name=\"Aaron\"><prosody rate=\"1.0\">提高滿意度，帶來轉換率。</prosody></voice>\n",
      " 8 : <voice name=\"Aaron\"><prosody rate=\"1.0\"><break time=\"500ms\"/>按下合成鍵之前，我們建議您先確認2個問題：您的文章轉成語音之後，</prosody></voice>\n",
      " 9 : <voice name=\"Aaron\"><prosody rate=\"1.0\">是好聽流暢的嗎？您有將閱讀文，</prosody></voice>\n",
      "10 : <voice name=\"Aaron\"><prosody rate=\"1.0\"><phoneme alphabet=\"bopomo\" lang=\"TW\" ph=\"ㄓㄨㄢˇ\">轉</phoneme>為聆聽文嗎？微調一下文章結構，</prosody></voice>\n",
      "11 : <voice name=\"Aaron\"><prosody rate=\"1.0\">參考合成使用說明，讓文章看起來像閱讀文，</prosody></voice>\n",
      "12 : <voice name=\"Aaron\"><prosody rate=\"1.0\">也適合您的聆聽者。有任何對我們的合成服務的建議，</prosody></voice>\n",
      "13 : <voice name=\"Aaron\"><prosody rate=\"1.0\">也請您不吝指教！ATEN 專注開發智慧製造及物聯網</prosody></voice>\n",
      "14 : <voice name=\"Aaron\"><prosody rate=\"1.0\"><phoneme alphabet=\"bopomo\" lang=\"TW\" ph=\"ㄐㄧㄝˇ\">解</phoneme>決方案，堅持客戶優先的理念，</prosody></voice>\n",
      "15 : <voice name=\"Aaron\"><prosody rate=\"1.0\">也將持續實現承諾，提供客戶最佳的服務。</prosody></voice>\n",
      "16 : <break time=\"300ms\"/>\n",
      "17 : <voice name='Hannah_colloquial'><prosody rate=\"1.2\" pitch=\"+2st\" volume=\"-3.3dB\">歡迎體驗宏正優聲學，</prosody></voice>\n",
      "18 : <voice name='Hannah_colloquial'><prosody rate=\"1.2\" pitch=\"+2st\" volume=\"-3.3dB\">讓好聲音為您的應用提供加值服務。</prosody></voice>\n",
      "19 : <phoneme alphabet=\"bopomo\" lang=\"TW\" ph=\"ㄧㄡ ㄕㄥ ㄒㄩㄝˊ\">大家好</phoneme>\n"
     ]
    }
   ],
   "source": [
    "# 印出文章\n",
    "converter.text.show()"
   ]
  },
  {
   "attachments": {},
   "cell_type": "markdown",
   "metadata": {},
   "source": [
    "#### 語音參數自動設定\n",
    "- 當轉換器加入SSML格式的文字或檔案，就會以SSML格式中的聲優為準"
   ]
  },
  {
   "cell_type": "code",
   "execution_count": 19,
   "metadata": {},
   "outputs": [
    {
     "name": "stdout",
     "output_type": "stream",
     "text": [
      " 0 : <voice name=\"Aaron\"><prosody rate=\"1.0\">歡迎體驗宏正優聲學，</prosody></voice>\n",
      " 1 : <voice name='Hannah_colloquial'><prosody rate=\"0.8\" pitch=\"-2st\" volume=\"+5.5dB\"><phoneme alphabet=\"bopomo\" lang=\"TW\" ph=\"ㄉㄚˋ ㄐㄧㄚ ㄏㄠˇ\">優聲學</phoneme></prosody></voice>\n",
      " 2 : <voice name=\"Aaron\"><prosody rate=\"1.0\">讓好聲音為您的應用提供加值服務。</prosody></voice>\n",
      " 3 : <voice name=\"Aaron\"><prosody rate=\"1.0\">宏正自動科技的人工智慧語音合成技術，</prosody></voice>\n",
      " 4 : <voice name=\"Aaron\"><prosody rate=\"1.0\">帶來超逼真</prosody></voice>\n",
      " 5 : <voice name=\"Aaron\"><prosody rate=\"1.0\"><phoneme alphabet=\"bopomo\" lang=\"TW\" ph=\"ㄉㄜ˙\">的</phoneme>合成語音：自然、真實，</prosody></voice>\n",
      " 6 : <voice name=\"Aaron\"><prosody rate=\"1.0\">讓您拉近與客戶的距離，</prosody></voice>\n",
      " 7 : <voice name=\"Aaron\"><prosody rate=\"1.0\">提高滿意度，帶來轉換率。</prosody></voice>\n",
      " 8 : <voice name=\"Aaron\"><prosody rate=\"1.0\"><break time=\"500ms\"/>按下合成鍵之前，我們建議您先確認2個問題：您的文章轉成語音之後，</prosody></voice>\n",
      " 9 : <voice name=\"Aaron\"><prosody rate=\"1.0\">是好聽流暢的嗎？您有將閱讀文，</prosody></voice>\n",
      "10 : <voice name=\"Aaron\"><prosody rate=\"1.0\"><phoneme alphabet=\"bopomo\" lang=\"TW\" ph=\"ㄓㄨㄢˇ\">轉</phoneme>為聆聽文嗎？微調一下文章結構，</prosody></voice>\n",
      "11 : <voice name=\"Aaron\"><prosody rate=\"1.0\">參考合成使用說明，讓文章看起來像閱讀文，</prosody></voice>\n",
      "12 : <voice name=\"Aaron\"><prosody rate=\"1.0\">也適合您的聆聽者。有任何對我們的合成服務的建議，</prosody></voice>\n",
      "13 : <voice name=\"Aaron\"><prosody rate=\"1.0\">也請您不吝指教！ATEN 專注開發智慧製造及物聯網</prosody></voice>\n",
      "14 : <voice name=\"Aaron\"><prosody rate=\"1.0\"><phoneme alphabet=\"bopomo\" lang=\"TW\" ph=\"ㄐㄧㄝˇ\">解</phoneme>決方案，堅持客戶優先的理念，</prosody></voice>\n",
      "15 : <voice name=\"Aaron\"><prosody rate=\"1.0\">也將持續實現承諾，提供客戶最佳的服務。</prosody></voice>\n",
      "16 : <break time=\"300ms\"/>\n",
      "17 : <voice name='Hannah_colloquial'><prosody rate=\"1.2\" pitch=\"+2st\" volume=\"-3.3dB\">歡迎體驗宏正優聲學，</prosody></voice>\n",
      "18 : <voice name='Hannah_colloquial'><prosody rate=\"1.2\" pitch=\"+2st\" volume=\"-3.3dB\">讓好聲音為您的應用提供加值服務。</prosody></voice>\n",
      "19 : <phoneme alphabet=\"bopomo\" lang=\"TW\" ph=\"ㄧㄡ ㄕㄥ ㄒㄩㄝˊ\">大家好</phoneme>\n",
      "20 : <voice name=\"Jason\">宏正自動科技的人工智慧語音合成技術，</voice>\n",
      "21 : <voice name=\"Jason\">帶來超逼真</voice>\n",
      "22 : <voice name=\"Jason\"><phoneme alphabet=\"bopomo\" lang=\"TW\" ph=\"ㄉㄜ˙\">的</phoneme>合成語音</voice>\n",
      "23 : <voice name=\"Jason\"><break time=\"300ms\"/>：自然、真實，</voice>\n",
      "24 : <voice name=\"Jason\">讓您拉近與客戶的距離，</voice>\n",
      "25 : <voice name=\"Jason\">提高滿意度，帶來轉換率。</voice>\n"
     ]
    }
   ],
   "source": [
    "#範例1：加入SSML文字、檔案\n",
    "\n",
    "converter.text.add_ssml_text(\n",
    "    text = \"\"\"<speak xmlns=\"http://www.w3.org/2001/10/synthesis\" version=\"1.2\" xml:lang=\"zh-TW\">\n",
    "    <voice name=\"Jason\">宏正自動科技的人工智慧語音合成技術，帶來超逼真\n",
    "    <phoneme alphabet=\"bopomo\" lang=\"TW\" ph=\"ㄉㄜ˙\">的</phoneme>\n",
    "    合成語音\n",
    "    <break time=\"300ms\"/>\n",
    "    ：自然、真實，讓您拉近與客戶的距離，提高滿意度，帶來轉換率。\n",
    "    </voice></speak>\"\"\",\n",
    "    position = -1\n",
    ")\n",
    "\n",
    "converter.text.show()"
   ]
  },
  {
   "cell_type": "code",
   "execution_count": 20,
   "metadata": {},
   "outputs": [
    {
     "name": "stdout",
     "output_type": "stream",
     "text": [
      " 0 : <voice name=\"Aaron\"><prosody rate=\"1.0\">歡迎體驗宏正優聲學，</prosody></voice>\n",
      " 1 : <voice name='Hannah_colloquial'><prosody rate=\"0.8\" pitch=\"-2st\" volume=\"+5.5dB\"><phoneme alphabet=\"bopomo\" lang=\"TW\" ph=\"ㄉㄚˋ ㄐㄧㄚ ㄏㄠˇ\">優聲學</phoneme></prosody></voice>\n",
      " 2 : <voice name=\"Aaron\"><prosody rate=\"1.0\">讓好聲音為您的應用提供加值服務。</prosody></voice>\n",
      " 3 : <voice name=\"Aaron\"><prosody rate=\"1.0\">宏正自動科技的人工智慧語音合成技術，</prosody></voice>\n",
      " 4 : <voice name=\"Aaron\"><prosody rate=\"1.0\">帶來超逼真</prosody></voice>\n",
      " 5 : <voice name=\"Aaron\"><prosody rate=\"1.0\"><phoneme alphabet=\"bopomo\" lang=\"TW\" ph=\"ㄉㄜ˙\">的</phoneme>合成語音：自然、真實，</prosody></voice>\n",
      " 6 : <voice name=\"Aaron\"><prosody rate=\"1.0\">讓您拉近與客戶的距離，</prosody></voice>\n",
      " 7 : <voice name=\"Aaron\"><prosody rate=\"1.0\">提高滿意度，帶來轉換率。</prosody></voice>\n",
      " 8 : <voice name=\"Aaron\"><prosody rate=\"1.0\"><break time=\"500ms\"/>按下合成鍵之前，我們建議您先確認2個問題：您的文章轉成語音之後，</prosody></voice>\n",
      " 9 : <voice name=\"Aaron\"><prosody rate=\"1.0\">是好聽流暢的嗎？您有將閱讀文，</prosody></voice>\n",
      "10 : <voice name=\"Aaron\"><prosody rate=\"1.0\"><phoneme alphabet=\"bopomo\" lang=\"TW\" ph=\"ㄓㄨㄢˇ\">轉</phoneme>為聆聽文嗎？微調一下文章結構，</prosody></voice>\n",
      "11 : <voice name=\"Aaron\"><prosody rate=\"1.0\">參考合成使用說明，讓文章看起來像閱讀文，</prosody></voice>\n",
      "12 : <voice name=\"Aaron\"><prosody rate=\"1.0\">也適合您的聆聽者。有任何對我們的合成服務的建議，</prosody></voice>\n",
      "13 : <voice name=\"Aaron\"><prosody rate=\"1.0\">也請您不吝指教！ATEN 專注開發智慧製造及物聯網</prosody></voice>\n",
      "14 : <voice name=\"Aaron\"><prosody rate=\"1.0\"><phoneme alphabet=\"bopomo\" lang=\"TW\" ph=\"ㄐㄧㄝˇ\">解</phoneme>決方案，堅持客戶優先的理念，</prosody></voice>\n",
      "15 : <voice name=\"Aaron\"><prosody rate=\"1.0\">也將持續實現承諾，提供客戶最佳的服務。</prosody></voice>\n",
      "16 : <break time=\"300ms\"/>\n",
      "17 : <voice name='Hannah_colloquial'><prosody rate=\"1.2\" pitch=\"+2st\" volume=\"-3.3dB\">歡迎體驗宏正優聲學，</prosody></voice>\n",
      "18 : <voice name='Hannah_colloquial'><prosody rate=\"1.2\" pitch=\"+2st\" volume=\"-3.3dB\">讓好聲音為您的應用提供加值服務。</prosody></voice>\n",
      "19 : <phoneme alphabet=\"bopomo\" lang=\"TW\" ph=\"ㄧㄡ ㄕㄥ ㄒㄩㄝˊ\">大家好</phoneme>\n",
      "20 : <voice name=\"Jason\">宏正自動科技的人工智慧語音合成技術，</voice>\n",
      "21 : <voice name=\"Jason\">帶來超逼真</voice>\n",
      "22 : <voice name=\"Jason\"><phoneme alphabet=\"bopomo\" lang=\"TW\" ph=\"ㄉㄜ˙\">的</phoneme>合成語音</voice>\n",
      "23 : <voice name=\"Jason\"><break time=\"300ms\"/>：自然、真實，</voice>\n",
      "24 : <voice name=\"Jason\">讓您拉近與客戶的距離，</voice>\n",
      "25 : <voice name=\"Jason\">提高滿意度，帶來轉換率。</voice>\n",
      "26 : <voice name=\"Aaron\"><prosody rate=\"1.0\">歡迎體驗宏正優聲學，</prosody></voice>\n",
      "27 : <voice name=\"Aaron\"><prosody rate=\"1.0\">讓好聲音為您的應用提供加值服務。</prosody></voice>\n",
      "28 : <voice name=\"Aaron\"><prosody rate=\"1.0\">宏正自動科技的人工智慧語音合成技術，</prosody></voice>\n",
      "29 : <voice name=\"Aaron\"><prosody rate=\"1.0\">帶來超逼真</prosody></voice>\n",
      "30 : <voice name=\"Aaron\"><prosody rate=\"1.0\"><phoneme alphabet=\"bopomo\" lang=\"TW\" ph=\"ㄉㄜ˙\">的</phoneme>合成語音：自然、真實，</prosody></voice>\n",
      "31 : <voice name=\"Aaron\"><prosody rate=\"1.0\">讓您拉近與客戶的距離，</prosody></voice>\n",
      "32 : <voice name=\"Aaron\"><prosody rate=\"1.0\">提高滿意度，帶來轉換率。</prosody></voice>\n",
      "33 : <voice name=\"Aaron\"><prosody rate=\"1.0\"><break time=\"500ms\"/>按下合成鍵之前，我們建議您先確認2個問題：您的文章轉成語音之後，</prosody></voice>\n",
      "34 : <voice name=\"Aaron\"><prosody rate=\"1.0\">是好聽流暢的嗎？您有將閱讀文，</prosody></voice>\n",
      "35 : <voice name=\"Aaron\"><prosody rate=\"1.0\"><phoneme alphabet=\"bopomo\" lang=\"TW\" ph=\"ㄓㄨㄢˇ\">轉</phoneme>為聆聽文嗎？微調一下文章結構，</prosody></voice>\n",
      "36 : <voice name=\"Aaron\"><prosody rate=\"1.0\">參考合成使用說明，讓文章看起來像閱讀文，</prosody></voice>\n",
      "37 : <voice name=\"Aaron\"><prosody rate=\"1.0\">也適合您的聆聽者。有任何對我們的合成服務的建議，</prosody></voice>\n",
      "38 : <voice name=\"Aaron\"><prosody rate=\"1.0\">也請您不吝指教！ATEN 專注開發智慧製造及物聯網</prosody></voice>\n",
      "39 : <voice name=\"Aaron\"><prosody rate=\"1.0\"><phoneme alphabet=\"bopomo\" lang=\"TW\" ph=\"ㄐㄧㄝˇ\">解</phoneme>決方案，堅持客戶優先的理念，</prosody></voice>\n",
      "40 : <voice name=\"Aaron\"><prosody rate=\"1.0\">也將持續實現承諾，提供客戶最佳的服務。</prosody></voice>\n"
     ]
    }
   ],
   "source": [
    "#範例2：加入SSML文字、檔案\n",
    "\n",
    "converter.text.open_text_file(file_path=\"./ssmlfile.ssml\", encode=\"utf-8\", position=-1)\n",
    "converter.text.show()"
   ]
  }
 ],
 "metadata": {
  "kernelspec": {
   "display_name": "Python 3.7.9 64-bit ('3.7.9')",
   "language": "python",
   "name": "python3"
  },
  "language_info": {
   "codemirror_mode": {
    "name": "ipython",
    "version": 3
   },
   "file_extension": ".py",
   "mimetype": "text/x-python",
   "name": "python",
   "nbconvert_exporter": "python",
   "pygments_lexer": "ipython3",
   "version": "3.7.6"
  },
  "orig_nbformat": 4,
  "vscode": {
   "interpreter": {
    "hash": "eacab534b225253314f0287d37f0e421b85ee403a294a438a694aa080fb6a50d"
   }
  }
 },
 "nbformat": 4,
 "nbformat_minor": 2
}
