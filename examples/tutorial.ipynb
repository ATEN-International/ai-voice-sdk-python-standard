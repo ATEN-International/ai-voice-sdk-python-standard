{
 "cells": [
  {
   "cell_type": "markdown",
   "metadata": {},
   "source": [
    "# 簡介\n",
    "AI Voice是宏正自動科技的語音合成服務優聲學，使用本SDK是必須租用優聲學服務。租用服務請至`https://www.aivoice.com.tw/business/enterprise`上留下聯絡資料。<br>\n",
    "宏正優聲學，推出限量企業標準版之語音合成服務，提供六個優質美聲，大量語音合成，歡迎企業用戶填寫表格連繫, 了解更多企業標準版方案細節!\n",
    "****"
   ]
  },
  {
   "cell_type": "markdown",
   "metadata": {},
   "source": [
    "## 事前準備\n",
    "1. 至語音合成網頁\"複製\" `API_ACCESS_TOKEN`"
   ]
  },
  {
   "cell_type": "markdown",
   "metadata": {},
   "source": [
    "****\n",
    "## AI Vioce SDK 範例"
   ]
  },
  {
   "cell_type": "markdown",
   "metadata": {},
   "source": [
    "### 目前提供多位聲優：\n",
    "\n",
    "| 語音 | 聲優 | SDK 參數 |\n",
    "| :---: | :---: | :---: |\n",
    "| 知性女聲 | 思涵 | `AURORA_HANNAH` |\n",
    "| 沉穩男聲 | 裕祥 | `STEADY_AARON` |\n",
    "| 動人女聲 | 貝拉 | `CHARMING_MERCURY_SOFT_BELLA` |\n",
    "| 開朗女聲 | 貝拉 | `CHEERFUL_MERCURY_HAPPY_BELLA` |\n",
    "| 活力男聲 | 力晨 | `VIBRANT_BILL` |\n",
    "| 斯文男聲 | 俊昇 | `GRACEFUL_SHAWN` |\n",
    "| 廣告男聲 | 裕祥 | `ADVERTISEMENT_AARON` |\n",
    "| 自在女聲 | 思涵 | `AT_EASE_HANNAH` |\n",
    "| 穩重女聲 | 嘉妮 | `STEADFAST_AURORA` |"
   ]
  },
  {
   "attachments": {},
   "cell_type": "markdown",
   "metadata": {},
   "source": [
    "### 建立轉換器\n",
    "- 以下為建立轉換器的流程：\n",
    "    1. 代入token與伺服器位置，並建立轉換器設定檔\n",
    "    2. 修改設定檔內選用的語音(預設參數為`None`，未設定語音參數將不會進行轉換)\n",
    "    3. 代入設定檔並建立轉換器"
   ]
  },
  {
   "cell_type": "code",
   "execution_count": 9,
   "metadata": {},
   "outputs": [],
   "source": [
    "import ai_voice_sdk as aivoice\n",
    "\n",
    "token = 'API_ACCESS_TOKEN' # 改為語音網頁上的 API_ACCESS_TOKEN\n",
    "server = 'SERVER_URL' # Aten Ai Voice API URL\n",
    "\n",
    "# 1.建立轉換器設定檔\n",
    "config = aivoice.ConverterConfig(token=token, server_url=server)\n",
    "\n",
    "# 2.選擇設定檔內選用的語音\n",
    "config.voice = aivoice.Voice.AURORA_HANNAH\n",
    "\n",
    "# 3.建立轉換器\n",
    "converter = aivoice.VoiceConverter(config=config)"
   ]
  },
  {
   "attachments": {},
   "cell_type": "markdown",
   "metadata": {},
   "source": [
    "<br>\n",
    "\n",
    "### 更新轉換器 (Optional)\n",
    "- 修改轉換器設定有2種方式\n",
    "    1. 修改`VoiceConverter.config`設定\n",
    "        - 設定`config.voice`參數的方式有兩種\n",
    "    2. 建立新設定檔，並更新至`VoiceConverter`"
   ]
  },
  {
   "cell_type": "code",
   "execution_count": 6,
   "metadata": {},
   "outputs": [],
   "source": [
    "new_token = 'API_ACCESS_TOKEN' # 改為語音網頁上的 API_ACCESS_TOKEN\n",
    "new_server = 'SERVER_URL' # Aten Ai Voice API URL\n",
    "\n",
    "# 1. 修改`VoiceConverter.config`設定\n",
    "# 1.1 修改config token設定\n",
    "converter.config.set_token(new_token)\n",
    "\n",
    "# 1.2 修改config server url設定\n",
    "converter.config.set_server(new_server)\n",
    "\n",
    "# 1.3.1 修改config voice設定\n",
    "converter.config.voice = aivoice.Voice.AURORA_HANNAH\n",
    "# 1.3.2 修改config voice設定\n",
    "converter.config.set_voice(aivoice.Voice.AURORA_HANNAH)\n",
    "\n",
    "# 2. 建立新設定檔，並更新至`VoiceConverter`\n",
    "# 2.1 建立新設定檔\n",
    "new_config = aivoice.ConverterConfig(token=new_token, server_url=new_server)\n",
    "new_config.voice = aivoice.Voice.AURORA_HANNAH\n",
    "\n",
    "# 2.2 更新至`VoiceConverter`\n",
    "converter.update_config(new_config)\n"
   ]
  },
  {
   "cell_type": "code",
   "execution_count": 4,
   "metadata": {},
   "outputs": [],
   "source": [
    "import ai_voice_sdk as aivoice\n",
    "\n",
    "token = 'API_ACCESS_TOKEN' # 改為語音網頁上的 API_ACCESS_TOKEN\n",
    "server = 'SERVER_URL' # Aten Ai Voice API URL\n",
    "\n",
    "# 1.建立轉換器設定檔\n",
    "config = aivoice.ConverterConfig(token=token, server_url=server)\n",
    "\n",
    "# 2.選擇設定檔內選用的語音\n",
    "config.voice = aivoice.Voice.AURORA_HANNAH\n",
    "\n",
    "# 3.建立轉換器\n",
    "converter = aivoice.VoiceConverter(config=config)"
   ]
  },
  {
   "cell_type": "markdown",
   "metadata": {},
   "source": [
    "### 查看可用的聲優"
   ]
  },
  {
   "cell_type": "code",
   "execution_count": 10,
   "metadata": {},
   "outputs": [
    {
     "name": "stdout",
     "output_type": "stream",
     "text": [
      "0 model id: zh-TW-szyu_news_cs, model name: 知性女聲-思涵\n",
      "1 model id: zh-TW-M03_vc_tianxia_female_cs, model name: 廣告男聲-裕祥\n",
      "2 model id: zh-TW-szyu_colloquial_cs, model name: 自在女聲-思涵\n",
      "3 model id: zh-TW-Bob_cs, model name: 活力男聲-力晨\n",
      "4 model id: zh-TW-F05_vc_tianxia_female_cs, model name: 穩重女聲-嘉妮\n",
      "5 model id: zh-TW-M03_cs, model name: 沉穩男聲-裕祥\n",
      "6 model id: zh-TW-Rongin_cs, model name: 斯文男聲-俊昇\n",
      "7 model id: zh-TW-Mercury_soft_cs, model name: 動人女聲-貝拉\n",
      "8 model id: zh-TW-Mercury_happy_cs, model name: 開朗女聲-貝拉\n"
     ]
    }
   ],
   "source": [
    "models = converter.get_models()\n",
    "\n",
    "for index, model in enumerate(models):\n",
    "    print(f\"{index} model id: {model['model_id']}, model name: {model['name']}\")"
   ]
  },
  {
   "cell_type": "markdown",
   "metadata": {},
   "source": [
    "<br>\n",
    "\n",
    "### 加入文章\n",
    "1. 轉換器的文字以段落清單的形式儲存\n",
    "2. 以下有兩種方式加入文章"
   ]
  },
  {
   "attachments": {},
   "cell_type": "markdown",
   "metadata": {},
   "source": [
    "方法1: 透過程式碼加入\n",
    "- 支援文字格式：`純文字`、`SSML`、`宏正優聲學RTF`\n",
    "- 注：若轉換器的`語音參數`為`None`，加入SSML格式的文字內容時，會將`語音參數`設為SSML格式中語音標籤的參數，詳見[語音參數自動設定](#語音參數自動設定)"
   ]
  },
  {
   "cell_type": "code",
   "execution_count": 11,
   "metadata": {},
   "outputs": [
    {
     "name": "stdout",
     "output_type": "stream",
     "text": [
      " 0 : 歡迎體驗宏正優聲學，讓好聲音為您的應用提供加值服務。\n",
      " 1 : 宏正自動科技的人工智慧語音合成技術，帶來超逼真\n",
      "    <phoneme alphabet=\"bopomo\" lang=\"TW\" ph=\"ㄉㄜ˙\">的</phoneme>\n",
      "    合成語音\n",
      "    \n",
      "    ：自然、真實，讓您拉近與客戶的距離，提高滿意度，帶來轉換率。\n",
      "    \n",
      " 2 : <prosody rate=\"1.01\" volume=\"+2.45dB\">按下合成鍵之前，我<phoneme alphabet=\"bopomo\" lang=\"TW\" ph=\"ㄇㄣˊ\">們</phoneme>建議您先確認2<phoneme alphabet=\"bopomo\" lang=\"TW\" ph=\"ㄍㄜ˙\">個</phoneme>問題：\n",
      "    您的文章轉成語音之後，是好聽流暢的嗎？<break time=\"1200ms\"/>\n",
      "    您<phoneme alphabet=\"bopomo\" lang=\"TW\" ph=\"ㄧㄡˇ\">有</phoneme>將閱讀文，轉為聆聽文嗎？\n",
      "    </prosody>\n"
     ]
    }
   ],
   "source": [
    "# 方法1: 透過程式碼加入\n",
    "\n",
    "# 1.1 加入純文字\n",
    "# 參數 (str)     text，要加入的文字內容\n",
    "# 參數 (int) position，要加入的段落，預設(position = -1)為加入清單最後\n",
    "converter.text.add_text(text = \"歡迎體驗宏正優聲學，讓好聲音為您的應用提供加值服務。\", position = -1)\n",
    "\n",
    "# 1.2 加入SSML格式\n",
    "# 參數 (str)     text，要加入的文字內容\n",
    "# 參數 (int) position，要加入的段落，預設(position = -1)為加入清單最後\n",
    "converter.text.add_ssml_text(\n",
    "    text = \"\"\"<speak xmlns=\"http://www.w3.org/2001/10/synthesis\" version=\"1.0.demo\" xml:lang=\"zh-TW\">\n",
    "    <voice name=\"zh-TW-szyu_news_cs\">宏正自動科技的人工智慧語音合成技術，帶來超逼真\n",
    "    <phoneme alphabet=\"bopomo\" lang=\"TW\" ph=\"ㄉㄜ˙\">的</phoneme>\n",
    "    合成語音\n",
    "    <break time=\"300ms\"/>\n",
    "    ：自然、真實，讓您拉近與客戶的距離，提高滿意度，帶來轉換率。\n",
    "    </voice></speak>\"\"\",\n",
    "    position = -1\n",
    ")\n",
    "\n",
    "# 1.3 加入宏正優聲學RTF格式\n",
    "# 參數 (str)     text，要加入的文字內容\n",
    "# 參數 (float)   rate，調整語速 (0.8 ~ 1.2)\n",
    "# 參數 (int)    pitch，調整音調 (-2 ~ 2)\n",
    "# 參數 (float) volume，調整音量 (-6.0 ~ 6.0)\n",
    "# 參數 (int) position，要加入的段落，預設(position = -1)為加入清單最後\n",
    "converter.text.add_webpage_text(\n",
    "    text = \"\"\"按下合成鍵之前，我們[:ㄇㄣˊ]建議您先確認2個[:ㄍㄜ˙]問題：\n",
    "    您的文章轉成語音之後，是好聽流暢的嗎？[:1.2秒]\n",
    "    您有[:ㄧㄡˇ]將閱讀文，轉為聆聽文嗎？\n",
    "    \"\"\",\n",
    "    rate = 1.01, pitch = 0, volume = 2.45, position = -1\n",
    ")\n",
    "\n",
    "# 印出文章\n",
    "converter.text.show()\n",
    "# 清除文章所有內容\n",
    "converter.text.clear()"
   ]
  },
  {
   "attachments": {},
   "cell_type": "markdown",
   "metadata": {},
   "source": [
    "方法2: 讀取檔案檔加入\n",
    "- 支援格式：`純文字檔(.txt)`、`SSML格式的檔案(.ssml/.xml)`\n",
    "- 注：若轉換器的`語音參數`為`None`，加入SSML格式的文字內容時，會將`語音參數`設為SSML格式中語音標籤的參數，詳見[語音參數自動設定](#語音參數自動設定)"
   ]
  },
  {
   "cell_type": "code",
   "execution_count": 13,
   "metadata": {},
   "outputs": [
    {
     "name": "stdout",
     "output_type": "stream",
     "text": [
      " 0 : 歡迎體驗宏正優聲學，\n",
      " 1 : 讓好聲音為您的應用提供加值服務。\n",
      " 2 : 宏正自動科技的人工智慧語音合成技術，\n",
      " 3 : 帶來超逼真的合成語音：自然、\n",
      " 4 : 真實，讓您拉近與客戶的距離，\n",
      " 5 : 提高滿意度，帶來轉換率。\n",
      " 6 : 按下合成鍵之前，我們建議您先確認2個問題：\n",
      " 7 : 您的文章轉成語音之後，\n",
      " 8 : 是好聽流暢的嗎？您有將閱讀文，\n",
      " 9 : 轉為聆聽文嗎？微調一下文章結構，\n",
      "10 : 參考合成使用說明，讓文章看起來像閱讀文，\n",
      "11 : 也適合您的聆聽者。\n",
      "12 : 有任何對我們的合成服務的建議，\n",
      "13 : 也請您不吝指教！ATEN 專注開發智慧製造及物聯網解決方案，\n",
      "14 : 堅持客戶優先的理念，\n",
      "15 : 也將持續實現承諾，提供客戶最佳的服務。\n",
      "16 : <prosody rate=\"1.0\">歡迎體驗宏正優聲學，</prosody>\n",
      "17 : <prosody rate=\"1.0\">讓好聲音為您的應用提供加值服務。</prosody>\n",
      "18 : <prosody rate=\"1.0\">宏正自動科技的人工智慧語音合成技術，</prosody>\n",
      "19 : <prosody rate=\"1.0\">帶來超逼真</prosody>\n",
      "20 : <prosody rate=\"1.0\"><phoneme alphabet=\"bopomo\" lang=\"TW\" ph=\"ㄉㄜ˙\">的</phoneme>合成語音：自然、真實，</prosody>\n",
      "21 : <prosody rate=\"1.0\">讓您拉近與客戶的距離，</prosody>\n",
      "22 : <prosody rate=\"1.0\">提高滿意度，帶來轉換率。</prosody>\n",
      "23 : <prosody rate=\"1.0\">按下合成鍵之前，我們建議您先確認2個問題：您的文章轉成語音之後，</prosody>\n",
      "24 : <prosody rate=\"1.0\">是好聽流暢的嗎？您有將閱讀文，</prosody>\n",
      "25 : <prosody rate=\"1.0\"><phoneme alphabet=\"bopomo\" lang=\"TW\" ph=\"ㄓㄨㄢˇ\">轉</phoneme>為聆聽文嗎？微調一下文章結構，</prosody>\n",
      "26 : <prosody rate=\"1.0\">參考合成使用說明，讓文章看起來像閱讀文，</prosody>\n",
      "27 : <prosody rate=\"1.0\">也適合您的聆聽者。有任何對我們的合成服務的建議，</prosody>\n",
      "28 : <prosody rate=\"1.0\">也請您不吝指教！ATEN 專注開發智慧製造及物聯網</prosody>\n",
      "29 : <prosody rate=\"1.0\"><phoneme alphabet=\"bopomo\" lang=\"TW\" ph=\"ㄐㄧㄝˇ\">解</phoneme>決方案，堅持客戶優先的理念，</prosody>\n",
      "30 : <prosody rate=\"1.0\">也將持續實現承諾，提供客戶最佳的服務。</prosody>\n"
     ]
    }
   ],
   "source": [
    "# 方法2: 讀取檔案檔加入\n",
    "# 參數 (str) file_path，檔案路徑\n",
    "# 參數 (str)    encode，編碼格式，預設為\"utf-8\"\n",
    "# 參數 (int)  position，要加入的段落，預設(position = -1)為加入清單最後\n",
    "converter.text.clear()\n",
    "# 2.1 讀取純文字檔加入\n",
    "converter.text.open_text_file(file_path=\"./textfile.txt\", encode=\"utf-8\", position=-1)\n",
    "\n",
    "# 2.2 讀取SSML格式的檔案\n",
    "converter.text.open_text_file(file_path=\"./ssmlfile.ssml\", encode=\"utf-8\", position=-1)\n",
    "\n",
    "# 印出文章\n",
    "converter.text.show()"
   ]
  },
  {
   "cell_type": "markdown",
   "metadata": {},
   "source": [
    "<br>\n",
    "\n",
    "### 獲得/顯示文章\n",
    "- 文章以清單的形式儲存"
   ]
  },
  {
   "cell_type": "code",
   "execution_count": 14,
   "metadata": {},
   "outputs": [
    {
     "name": "stdout",
     "output_type": "stream",
     "text": [
      "['歡迎體驗宏正優聲學，', '讓好聲音為您的應用提供加值服務。', '宏正自動科技的人工智慧語音合成技術，', '帶來超逼真的合成語音：自然、', '真實，讓您拉近與客戶的距離，', '提高滿意度，帶來轉換率。', '按下合成鍵之前，我們建議您先確認2個問題：', '您的文章轉成語音之後，', '是好聽流暢的嗎？您有將閱讀文，', '轉為聆聽文嗎？微調一下文章結構，', '參考合成使用說明，讓文章看起來像閱讀文，', '也適合您的聆聽者。', '有任何對我們的合成服務的建議，', '也請您不吝指教！ATEN 專注開發智慧製造及物聯網解決方案，', '堅持客戶優先的理念，', '也將持續實現承諾，提供客戶最佳的服務。', '<prosody rate=\"1.0\">歡迎體驗宏正優聲學，</prosody>', '<prosody rate=\"1.0\">讓好聲音為您的應用提供加值服務。</prosody>', '<prosody rate=\"1.0\">宏正自動科技的人工智慧語音合成技術，</prosody>', '<prosody rate=\"1.0\">帶來超逼真</prosody>', '<prosody rate=\"1.0\"><phoneme alphabet=\"bopomo\" lang=\"TW\" ph=\"ㄉㄜ˙\">的</phoneme>合成語音：自然、真實，</prosody>', '<prosody rate=\"1.0\">讓您拉近與客戶的距離，</prosody>', '<prosody rate=\"1.0\">提高滿意度，帶來轉換率。</prosody>', '<prosody rate=\"1.0\">按下合成鍵之前，我們建議您先確認2個問題：您的文章轉成語音之後，</prosody>', '<prosody rate=\"1.0\">是好聽流暢的嗎？您有將閱讀文，</prosody>', '<prosody rate=\"1.0\"><phoneme alphabet=\"bopomo\" lang=\"TW\" ph=\"ㄓㄨㄢˇ\">轉</phoneme>為聆聽文嗎？微調一下文章結構，</prosody>', '<prosody rate=\"1.0\">參考合成使用說明，讓文章看起來像閱讀文，</prosody>', '<prosody rate=\"1.0\">也適合您的聆聽者。有任何對我們的合成服務的建議，</prosody>', '<prosody rate=\"1.0\">也請您不吝指教！ATEN 專注開發智慧製造及物聯網</prosody>', '<prosody rate=\"1.0\"><phoneme alphabet=\"bopomo\" lang=\"TW\" ph=\"ㄐㄧㄝˇ\">解</phoneme>決方案，堅持客戶優先的理念，</prosody>', '<prosody rate=\"1.0\">也將持續實現承諾，提供客戶最佳的服務。</prosody>']\n",
      "\n",
      " 0 : 歡迎體驗宏正優聲學，\n",
      " 1 : 讓好聲音為您的應用提供加值服務。\n",
      " 2 : 宏正自動科技的人工智慧語音合成技術，\n",
      " 3 : 帶來超逼真的合成語音：自然、\n",
      " 4 : 真實，讓您拉近與客戶的距離，\n",
      " 5 : 提高滿意度，帶來轉換率。\n",
      " 6 : 按下合成鍵之前，我們建議您先確認2個問題：\n",
      " 7 : 您的文章轉成語音之後，\n",
      " 8 : 是好聽流暢的嗎？您有將閱讀文，\n",
      " 9 : 轉為聆聽文嗎？微調一下文章結構，\n",
      "10 : 參考合成使用說明，讓文章看起來像閱讀文，\n",
      "11 : 也適合您的聆聽者。\n",
      "12 : 有任何對我們的合成服務的建議，\n",
      "13 : 也請您不吝指教！ATEN 專注開發智慧製造及物聯網解決方案，\n",
      "14 : 堅持客戶優先的理念，\n",
      "15 : 也將持續實現承諾，提供客戶最佳的服務。\n",
      "16 : <prosody rate=\"1.0\">歡迎體驗宏正優聲學，</prosody>\n",
      "17 : <prosody rate=\"1.0\">讓好聲音為您的應用提供加值服務。</prosody>\n",
      "18 : <prosody rate=\"1.0\">宏正自動科技的人工智慧語音合成技術，</prosody>\n",
      "19 : <prosody rate=\"1.0\">帶來超逼真</prosody>\n",
      "20 : <prosody rate=\"1.0\"><phoneme alphabet=\"bopomo\" lang=\"TW\" ph=\"ㄉㄜ˙\">的</phoneme>合成語音：自然、真實，</prosody>\n",
      "21 : <prosody rate=\"1.0\">讓您拉近與客戶的距離，</prosody>\n",
      "22 : <prosody rate=\"1.0\">提高滿意度，帶來轉換率。</prosody>\n",
      "23 : <prosody rate=\"1.0\">按下合成鍵之前，我們建議您先確認2個問題：您的文章轉成語音之後，</prosody>\n",
      "24 : <prosody rate=\"1.0\">是好聽流暢的嗎？您有將閱讀文，</prosody>\n",
      "25 : <prosody rate=\"1.0\"><phoneme alphabet=\"bopomo\" lang=\"TW\" ph=\"ㄓㄨㄢˇ\">轉</phoneme>為聆聽文嗎？微調一下文章結構，</prosody>\n",
      "26 : <prosody rate=\"1.0\">參考合成使用說明，讓文章看起來像閱讀文，</prosody>\n",
      "27 : <prosody rate=\"1.0\">也適合您的聆聽者。有任何對我們的合成服務的建議，</prosody>\n",
      "28 : <prosody rate=\"1.0\">也請您不吝指教！ATEN 專注開發智慧製造及物聯網</prosody>\n",
      "29 : <prosody rate=\"1.0\"><phoneme alphabet=\"bopomo\" lang=\"TW\" ph=\"ㄐㄧㄝˇ\">解</phoneme>決方案，堅持客戶優先的理念，</prosody>\n",
      "30 : <prosody rate=\"1.0\">也將持續實現承諾，提供客戶最佳的服務。</prosody>\n"
     ]
    }
   ],
   "source": [
    "# 印出文章清單\n",
    "print(f\"{converter.text.get_text()}\\n\")\n",
    "\n",
    "# 印出文章\n",
    "converter.text.show()"
   ]
  },
  {
   "cell_type": "markdown",
   "metadata": {},
   "source": [
    "<br>\n",
    "\n",
    "### 刪除文章內容\n",
    "- 刪除文章內容有以下兩種方法\n",
    "\n",
    "方法1: 刪除文章段落"
   ]
  },
  {
   "cell_type": "code",
   "execution_count": 15,
   "metadata": {},
   "outputs": [
    {
     "name": "stdout",
     "output_type": "stream",
     "text": [
      " 0 : 讓好聲音為您的應用提供加值服務。\n",
      " 1 : 宏正自動科技的人工智慧語音合成技術，\n",
      " 2 : 帶來超逼真的合成語音：自然、\n",
      " 3 : 真實，讓您拉近與客戶的距離，\n",
      " 4 : 提高滿意度，帶來轉換率。\n",
      " 5 : 按下合成鍵之前，我們建議您先確認2個問題：\n",
      " 6 : 您的文章轉成語音之後，\n",
      " 7 : 是好聽流暢的嗎？您有將閱讀文，\n",
      " 8 : 轉為聆聽文嗎？微調一下文章結構，\n",
      " 9 : 參考合成使用說明，讓文章看起來像閱讀文，\n",
      "10 : 也適合您的聆聽者。\n",
      "11 : 有任何對我們的合成服務的建議，\n",
      "12 : 也請您不吝指教！ATEN 專注開發智慧製造及物聯網解決方案，\n",
      "13 : 堅持客戶優先的理念，\n",
      "14 : 也將持續實現承諾，提供客戶最佳的服務。\n",
      "15 : <prosody rate=\"1.0\">歡迎體驗宏正優聲學，</prosody>\n",
      "16 : <prosody rate=\"1.0\">讓好聲音為您的應用提供加值服務。</prosody>\n",
      "17 : <prosody rate=\"1.0\">宏正自動科技的人工智慧語音合成技術，</prosody>\n",
      "18 : <prosody rate=\"1.0\">帶來超逼真</prosody>\n",
      "19 : <prosody rate=\"1.0\"><phoneme alphabet=\"bopomo\" lang=\"TW\" ph=\"ㄉㄜ˙\">的</phoneme>合成語音：自然、真實，</prosody>\n",
      "20 : <prosody rate=\"1.0\">讓您拉近與客戶的距離，</prosody>\n",
      "21 : <prosody rate=\"1.0\">提高滿意度，帶來轉換率。</prosody>\n",
      "22 : <prosody rate=\"1.0\">按下合成鍵之前，我們建議您先確認2個問題：您的文章轉成語音之後，</prosody>\n",
      "23 : <prosody rate=\"1.0\">是好聽流暢的嗎？您有將閱讀文，</prosody>\n",
      "24 : <prosody rate=\"1.0\"><phoneme alphabet=\"bopomo\" lang=\"TW\" ph=\"ㄓㄨㄢˇ\">轉</phoneme>為聆聽文嗎？微調一下文章結構，</prosody>\n",
      "25 : <prosody rate=\"1.0\">參考合成使用說明，讓文章看起來像閱讀文，</prosody>\n",
      "26 : <prosody rate=\"1.0\">也適合您的聆聽者。有任何對我們的合成服務的建議，</prosody>\n",
      "27 : <prosody rate=\"1.0\">也請您不吝指教！ATEN 專注開發智慧製造及物聯網</prosody>\n",
      "28 : <prosody rate=\"1.0\"><phoneme alphabet=\"bopomo\" lang=\"TW\" ph=\"ㄐㄧㄝˇ\">解</phoneme>決方案，堅持客戶優先的理念，</prosody>\n",
      "29 : <prosody rate=\"1.0\">也將持續實現承諾，提供客戶最佳的服務。</prosody>\n"
     ]
    }
   ],
   "source": [
    "# 參數 (int) position，要刪除的段落\n",
    "converter.text.delete_paragraph(position=0)\n",
    "# 印出文章\n",
    "converter.text.show()"
   ]
  },
  {
   "cell_type": "markdown",
   "metadata": {},
   "source": [
    "方法2: 清空文章"
   ]
  },
  {
   "cell_type": "code",
   "execution_count": 16,
   "metadata": {},
   "outputs": [
    {
     "name": "stdout",
     "output_type": "stream",
     "text": [
      "Text is empty.\n"
     ]
    }
   ],
   "source": [
    "# 清除文章所有內容\n",
    "converter.text.clear()\n",
    "# 印出文章\n",
    "converter.text.show()"
   ]
  },
  {
   "attachments": {},
   "cell_type": "markdown",
   "metadata": {},
   "source": [
    "<br>\n",
    "\n",
    "### 合成語音\n",
    "- 合成語音有兩種使用方法：\n",
    "    - 注：合成語音後不會將既有的文章刪除"
   ]
  },
  {
   "cell_type": "markdown",
   "metadata": {},
   "source": [
    "方法1: 執行後不等待語音合成"
   ]
  },
  {
   "cell_type": "code",
   "execution_count": 17,
   "metadata": {},
   "outputs": [],
   "source": [
    "# 方法1：執行後不等待語音合成\n",
    "\n",
    "# 讀取SSML格式的檔案\n",
    "converter.text.open_text_file(file_path=\"./ssmlfile.ssml\", encode=\"utf-8\", position=-1)\n",
    "\n",
    "# 參數 (int) interval_time，伺服器忙碌時，重試合成任務間隔時間，最小值=0 (不重試), 最大值=10\n",
    "# 參數 (bool) is_wait_speech，是否等待語音合成完成，如果為True，執行後會等待語音合成結束，其Result與get_speech(func)相同\n",
    "result = converter.run(interval_time=0, is_wait_speech=False)\n",
    "\n",
    "if result.status == aivoice.ConverterStatus.ConverVoiceStart:\n",
    "    print(f\"Start convert: {result.detail}\")\n",
    "else:\n",
    "    if result.status == aivoice.ConverterStatus.ConverVoiceFail:\n",
    "        print(f\"Error message: {result.error_message}\")\n",
    "    elif result.status == aivoice.ConverterStatus.ServerBusy:\n",
    "        print(f\"Error message: {result.error_message}\")    "
   ]
  },
  {
   "cell_type": "markdown",
   "metadata": {},
   "source": [
    "方法2: 執行後等待語音合成結束並將資料取回"
   ]
  },
  {
   "cell_type": "code",
   "execution_count": 18,
   "metadata": {},
   "outputs": [
    {
     "name": "stdout",
     "output_type": "stream",
     "text": [
      "Get speech data success.\n"
     ]
    }
   ],
   "source": [
    "# 方法2: 執行後等待語音合成結束並將資料取回\n",
    "\n",
    "# 參數 (int)  interval_time，伺服器忙碌時，重試合成任務間隔時間，最小值=0 (不重試), 最大值=10\n",
    "# 參數 (bool) is_wait_speech，是否等待語音合成完成，如果為True，執行後會等待語音合成結束，Result與get_speech(func)相同\n",
    "result = converter.run(interval_time=0, is_wait_speech=True)\n",
    "\n",
    "if result.status == aivoice.ConverterStatus.GetSpeechSuccess:\n",
    "    print(\"Get speech data success.\")\n",
    "    # 將語音另存為\"aivoice.wav\"，且當語音數量超過一個時，將語音檔各別存為單一檔案\n",
    "    result.save(\"aivoice\", is_merge=False)\n",
    "else:\n",
    "    if result.status == aivoice.ConverterStatus.GetSpeechFail:\n",
    "        print(f\"Error message: {result.error_message}\")\n",
    "    elif result.status == aivoice.ConverterStatus.ConverVoiceFail:\n",
    "        print(f\"Error message: {result.error_message}\")\n",
    "    else:\n",
    "        print(f\"Converter status: {result.status.name}, Detail: {result.detail}\")"
   ]
  },
  {
   "cell_type": "code",
   "execution_count": 12,
   "metadata": {},
   "outputs": [
    {
     "name": "stdout",
     "output_type": "stream",
     "text": [
      "Get speech data success.\n"
     ]
    }
   ],
   "source": [
    "# 方法3: 執行後會即時播放語音後並將資料取回\n",
    "\n",
    "aivoice.config.Settings.is_live_play_audio = True\n",
    "\n",
    "# 若開啟即時播放Audio需要重新建立文章\n",
    "converter.text.clear()\n",
    "\n",
    "# 讀取SSML格式的檔案\n",
    "converter.text.open_text_file(file_path=\"./ssmlfile.ssml\", encode=\"utf-8\", position=-1)\n",
    "\n",
    "# 參數 (int)  interval_time，伺服器忙碌時，重試合成任務間隔時間，最小值=0 (不重試), 最大值=10\n",
    "# 參數 (bool) is_wait_speech，是否等待語音合成完成，如果為True，執行後會等待語音合成結束，Result與get_speech(func)相同\n",
    "result = converter.run(interval_time=0, is_wait_speech=True)\n",
    "\n",
    "if result.status == aivoice.ConverterStatus.GetSpeechSuccess:\n",
    "    print(\"Get speech data success.\")\n",
    "    # 將語音另存為\"aivoice.wav\"，且當語音數量超過一個時，將語音檔各別存為單一檔案\n",
    "    result.save(\"aivoice\", is_merge=True)\n",
    "else:\n",
    "    if result.status == aivoice.ConverterStatus.GetSpeechFail:\n",
    "        print(f\"Error message: {result.error_message}\")\n",
    "    elif result.status == aivoice.ConverterStatus.ConverVoiceFail:\n",
    "        print(f\"Error message: {result.error_message}\")\n",
    "    else:\n",
    "        print(f\"Converter status: {result.status.name}, Detail: {result.detail}\")"
   ]
  },
  {
   "cell_type": "markdown",
   "metadata": {},
   "source": [
    "<br>\n",
    "\n",
    "### 確認語音合成狀態\n",
    "- 需要先執行過`(function) run`，才能夠執行"
   ]
  },
  {
   "cell_type": "code",
   "execution_count": 20,
   "metadata": {},
   "outputs": [],
   "source": [
    "result = converter.check_status()\n",
    "\n",
    "if result.status == aivoice.ConverterStatus.ConverVoiceCompleted:\n",
    "    print(\"Convert success.\")\n",
    "else: \n",
    "    if result.status == aivoice.ConverterStatus.ConverVoiceRunning:\n",
    "        print(f\"Convert processing: {result.detail}\")\n",
    "    elif result.status == aivoice.ConverterStatus.ConverVoiceFail:\n",
    "        print(f\"Error message: {result.error_message}\")"
   ]
  },
  {
   "attachments": {},
   "cell_type": "markdown",
   "metadata": {},
   "source": [
    "<br>\n",
    "\n",
    "### 取得語音合成資料\n",
    "- 注：需要先執行過`(function) run`，才能夠執行\n",
    "- `ConverterResult.save()`的參數(`bool`)`is_merge`能夠調整儲存語音的方式：\n",
    "    1. `is_merge == False (default)`，當收到複數語音資料，會各別存為wav file\n",
    "    2. `is_merge == True`，當收到複數語音資料，會將其合併為一個wav file"
   ]
  },
  {
   "cell_type": "code",
   "execution_count": 21,
   "metadata": {},
   "outputs": [
    {
     "name": "stdout",
     "output_type": "stream",
     "text": [
      "Get speech data success.\n"
     ]
    }
   ],
   "source": [
    "result = converter.get_speech()\n",
    "\n",
    "if result.status == aivoice.ConverterStatus.GetSpeechSuccess:\n",
    "    print(\"Get speech data success.\")\n",
    "    # 將語音另存為\"aivoice.wav\"，且當語音數量超過一個時，將語音檔合併至同一檔案\n",
    "    result.save(\"aivoice\", is_merge=True)\n",
    "elif result.status == aivoice.ConverterStatus.GetSpeechFail:\n",
    "    print(f\"Error message: {result.error_message}\")"
   ]
  },
  {
   "cell_type": "markdown",
   "metadata": {},
   "source": [
    "<br>\n",
    "\n",
    "### 進階應用\n",
    "1. 插入停頓\n",
    "2. 調整語速、音調、以及音量\n",
    "3. 修改發音\n",
    "4. 修改發音並且調整語速、音調、以及音量"
   ]
  },
  {
   "cell_type": "markdown",
   "metadata": {},
   "source": [
    "<br>\n",
    "\n",
    "- 插入停頓"
   ]
  },
  {
   "cell_type": "code",
   "execution_count": 22,
   "metadata": {},
   "outputs": [],
   "source": [
    "# 參數 (int) break_time，插入停頓時間(毫秒)\n",
    "# 參數 (int)   position，要插入停頓的段落，預設(position = -1)為加入清單最後\n",
    "\n",
    "# 在段落最後加入300毫秒的停頓\n",
    "converter.text.insert_break(break_time=300, position=-1)"
   ]
  },
  {
   "cell_type": "markdown",
   "metadata": {},
   "source": [
    "- 調整與速、音調、以及音量"
   ]
  },
  {
   "cell_type": "code",
   "execution_count": 23,
   "metadata": {},
   "outputs": [],
   "source": [
    "# 參數 (str)     text，要調整的文字內容\n",
    "# 參數 (float)   rate，調整語速 (0.8 ~ 1.2)\n",
    "# 參數 (int)    pitch，調整音調 (-2 ~ 2)\n",
    "# 參數 (float) volume，調整音量 (-6.0 ~ 6.0)\n",
    "# 參數 (int) position，要插入的段落，預設(position = -1)為加入清單最後\n",
    "\n",
    "# 在段落最後加入文字，並調整與速、音調、以及音量\n",
    "converter.text.insert_prosody(text=\"歡迎體驗宏正優聲學，讓好聲音為您的應用提供加值服務。\", rate=1.2, pitch=2, volume=-3.3, position=-1)"
   ]
  },
  {
   "cell_type": "markdown",
   "metadata": {},
   "source": [
    "- 修改發音"
   ]
  },
  {
   "cell_type": "code",
   "execution_count": 24,
   "metadata": {},
   "outputs": [],
   "source": [
    "# 參數 (str)     text，要修改發音的文字內容\n",
    "# 參數 (str)       ph，修改後的發音\n",
    "# 參數 (int) position，要插入的段落，預設(position = -1)為加入清單最後\n",
    "\n",
    "# 在段落最後加入文字，並修改文字內容的發音\n",
    "converter.text.insert_phoneme(text=\"大家好\", ph=\"ㄧㄡ ㄕㄥ ㄒㄩㄝˊ\", position=-1)"
   ]
  },
  {
   "cell_type": "markdown",
   "metadata": {},
   "source": [
    "- 修改發音並且調整語速、音調、以及音量"
   ]
  },
  {
   "cell_type": "code",
   "execution_count": 25,
   "metadata": {},
   "outputs": [],
   "source": [
    "# 參數 (str)     text，要修改發音的文字內容\n",
    "# 參數 (str)       ph，修改後的發音\n",
    "# 參數 (float)   rate，調整語速 (0.8 ~ 1.2)\n",
    "# 參數 (int)    pitch，調整音調 (-2 ~ 2)\n",
    "# 參數 (float) volume，調整音量 (-6.0 ~ 6.0)\n",
    "# 參數 (int) position，要插入的段落，預設(position = -1)為加入清單最後\n",
    "\n",
    "# 在段落1，插入修改發音後的文字內容，並且調整與速、音調、以及音量\n",
    "converter.text.insert_prosody_and_phoneme(text=\"優聲學\", ph=\"ㄉㄚˋ ㄐㄧㄚ ㄏㄠˇ\", rate=0.8, pitch=-2, volume=5.5, position=1)"
   ]
  },
  {
   "cell_type": "code",
   "execution_count": 26,
   "metadata": {},
   "outputs": [
    {
     "name": "stdout",
     "output_type": "stream",
     "text": [
      " 0 : <prosody rate=\"1.0\">歡迎體驗宏正優聲學，</prosody>\n",
      " 1 : <prosody rate=\"0.8\" pitch=\"-2st\" volume=\"+5.5dB\"><phoneme alphabet=\"bopomo\" lang=\"TW\" ph=\"ㄉㄚˋ ㄐㄧㄚ ㄏㄠˇ\">優聲學</phoneme></prosody>\n",
      " 2 : <prosody rate=\"1.0\">讓好聲音為您的應用提供加值服務。</prosody>\n",
      " 3 : <prosody rate=\"1.0\">宏正自動科技的人工智慧語音合成技術，</prosody>\n",
      " 4 : <prosody rate=\"1.0\">帶來超逼真</prosody>\n",
      " 5 : <prosody rate=\"1.0\"><phoneme alphabet=\"bopomo\" lang=\"TW\" ph=\"ㄉㄜ˙\">的</phoneme>合成語音：自然、真實，</prosody>\n",
      " 6 : <prosody rate=\"1.0\">讓您拉近與客戶的距離，</prosody>\n",
      " 7 : <prosody rate=\"1.0\">提高滿意度，帶來轉換率。</prosody>\n",
      " 8 : <prosody rate=\"1.0\">按下合成鍵之前，我們建議您先確認2個問題：您的文章轉成語音之後，</prosody>\n",
      " 9 : <prosody rate=\"1.0\">是好聽流暢的嗎？您有將閱讀文，</prosody>\n",
      "10 : <prosody rate=\"1.0\"><phoneme alphabet=\"bopomo\" lang=\"TW\" ph=\"ㄓㄨㄢˇ\">轉</phoneme>為聆聽文嗎？微調一下文章結構，</prosody>\n",
      "11 : <prosody rate=\"1.0\">參考合成使用說明，讓文章看起來像閱讀文，</prosody>\n",
      "12 : <prosody rate=\"1.0\">也適合您的聆聽者。有任何對我們的合成服務的建議，</prosody>\n",
      "13 : <prosody rate=\"1.0\">也請您不吝指教！ATEN 專注開發智慧製造及物聯網</prosody>\n",
      "14 : <prosody rate=\"1.0\"><phoneme alphabet=\"bopomo\" lang=\"TW\" ph=\"ㄐㄧㄝˇ\">解</phoneme>決方案，堅持客戶優先的理念，</prosody>\n",
      "15 : <prosody rate=\"1.0\">也將持續實現承諾，提供客戶最佳的服務。</prosody>\n",
      "16 : <break time=\"300ms\"/>\n",
      "17 : <prosody rate=\"1.2\" pitch=\"+2st\" volume=\"-3.3dB\">歡迎體驗宏正優聲學，</prosody>\n",
      "18 : <prosody rate=\"1.2\" pitch=\"+2st\" volume=\"-3.3dB\">讓好聲音為您的應用提供加值服務。</prosody>\n",
      "19 : <phoneme alphabet=\"bopomo\" lang=\"TW\" ph=\"ㄧㄡ ㄕㄥ ㄒㄩㄝˊ\">大家好</phoneme>\n"
     ]
    }
   ],
   "source": [
    "# 印出文章\n",
    "converter.text.show()"
   ]
  },
  {
   "attachments": {},
   "cell_type": "markdown",
   "metadata": {},
   "source": [
    "#### 語音參數自動設定\n",
    "- 當轉換器的語音參數(`converter.config.voice`)為None時，若加入SSML格式的文字或檔案，就會將轉換器的語音參數設為SSML格式中的語音標籤"
   ]
  },
  {
   "cell_type": "code",
   "execution_count": 27,
   "metadata": {},
   "outputs": [
    {
     "name": "stdout",
     "output_type": "stream",
     "text": [
      "Converter 'Voice' setting before: None\n",
      "Converter 'Voice' setting after: Voice.AURORA_HANNAH\n"
     ]
    }
   ],
   "source": [
    "#範例1：語音參數(converter.config.voice)為None時加入SSML文字、檔案\n",
    "\n",
    "converter.config.voice = None\n",
    "print(f\"Converter 'Voice' setting before: {converter.config.voice}\")\n",
    "\n",
    "converter.text.add_ssml_text(\n",
    "    text = \"\"\"<speak xmlns=\"http://www.w3.org/2001/10/synthesis\" version=\"1.0.demo\" xml:lang=\"zh-TW\">\n",
    "    <voice name=\"zh-TW-szyu_news_cs\">宏正自動科技的人工智慧語音合成技術，帶來超逼真\n",
    "    <phoneme alphabet=\"bopomo\" lang=\"TW\" ph=\"ㄉㄜ˙\">的</phoneme>\n",
    "    合成語音\n",
    "    <break time=\"300ms\"/>\n",
    "    ：自然、真實，讓您拉近與客戶的距離，提高滿意度，帶來轉換率。\n",
    "    </voice></speak>\"\"\",\n",
    "    position = -1\n",
    ")\n",
    "print(f\"Converter 'Voice' setting after: {converter.config.voice}\")"
   ]
  },
  {
   "cell_type": "code",
   "execution_count": 28,
   "metadata": {},
   "outputs": [
    {
     "name": "stdout",
     "output_type": "stream",
     "text": [
      "Converter 'Voice' setting before: None\n",
      "Converter 'Voice' setting after: Voice.AURORA_HANNAH\n"
     ]
    }
   ],
   "source": [
    "#範例2：語音參數(converter.config.voice)為None時加入SSML、檔案\n",
    "\n",
    "converter.config.voice = None\n",
    "print(f\"Converter 'Voice' setting before: {converter.config.voice}\")\n",
    "\n",
    "converter.text.open_text_file(file_path=\"./ssmlfile.ssml\", encode=\"utf-8\", position=-1)\n",
    "print(f\"Converter 'Voice' setting after: {converter.config.voice}\")"
   ]
  }
 ],
 "metadata": {
  "kernelspec": {
   "display_name": "Python 3.7.9 64-bit ('3.7.9')",
   "language": "python",
   "name": "python3"
  },
  "language_info": {
   "codemirror_mode": {
    "name": "ipython",
    "version": 3
   },
   "file_extension": ".py",
   "mimetype": "text/x-python",
   "name": "python",
   "nbconvert_exporter": "python",
   "pygments_lexer": "ipython3",
   "version": "3.7.9"
  },
  "orig_nbformat": 4,
  "vscode": {
   "interpreter": {
    "hash": "eacab534b225253314f0287d37f0e421b85ee403a294a438a694aa080fb6a50d"
   }
  }
 },
 "nbformat": 4,
 "nbformat_minor": 2
}
